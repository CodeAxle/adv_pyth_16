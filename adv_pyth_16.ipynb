{
 "cells": [
  {
   "cell_type": "markdown",
   "id": "87ab1de6",
   "metadata": {},
   "source": [
    "# 1."
   ]
  },
  {
   "cell_type": "code",
   "execution_count": 1,
   "id": "87d06f23",
   "metadata": {},
   "outputs": [],
   "source": [
    "# Regular expressions (regex) are a powerful tool for pattern matching and text manipulation in programming languages like Python.\n",
    "\n",
    "# Here are some key benefits of using regular expressions:\n",
    "\n",
    "# a) Pattern Matching: Regular expressions allow you to define complex patterns to search for specific substrings or patterns \n",
    "#     within text data. This includes simple tasks like finding all occurrences of a word, to more complex tasks like extracting \n",
    "#     email addresses or phone numbers from a block of text.\n",
    "\n",
    "# b) Flexible and Expressive: Regular expressions provide a concise and expressive way to specify patterns. They allow you to\n",
    "#     define rules for matching strings based on characters, character classes, repetitions, alternations, anchors, and more.\n",
    "#     This flexibility makes it easier to handle various text processing tasks efficiently.\n",
    "\n",
    "# c) Text Validation: Regular expressions are commonly used for validating user input. For example, you can use regex to validate\n",
    "#     email addresses, URLs, phone numbers, dates, and other formats, ensuring that the input data meets specific criteria before\n",
    "#     processing.\n",
    "\n",
    "# d) Efficiency: When working with large volumes of text data, regular expressions can significantly improve efficiency. \n",
    "#     They enable you to perform complex text processing tasks in a single pass, avoiding the need for multiple iterations \n",
    "#     through the data.\n",
    "\n",
    "# e) Standardized Syntax: Regular expressions have a standardized syntax across different programming languages and tools. \n",
    "#     Once you understand regex basics, you can apply the same knowledge to work with text data in various environments.\n",
    "\n",
    "# f) Versatility: Regular expressions are widely supported in programming languages, text editors, databases, command-line tools,\n",
    "#     and other software. This versatility allows you to use regex in different contexts and integrate text processing \n",
    "#     functionalities seamlessly into your applications."
   ]
  },
  {
   "cell_type": "markdown",
   "id": "bd8a50c0",
   "metadata": {},
   "source": [
    "# 2."
   ]
  },
  {
   "cell_type": "code",
   "execution_count": 2,
   "id": "82f29139",
   "metadata": {},
   "outputs": [],
   "source": [
    "# Differences regular expressions :\n",
    "\n",
    "# 1. (ab)c+:\n",
    "\n",
    "# a) This regular expression matches the pattern where \"ab\" is followed by one or more occurrences of the character \"c\".\n",
    "# b) For example, it matches strings like \"abc\", \"abcc\", \"abccc\", and so on.\n",
    "# c) The parentheses (ab) create a capturing group, which captures the sequence \"ab\" as a unit.\n",
    "# d) The c+ part specifies that the character \"c\" must appear one or more times consecutively after the captured group \"(ab)\".\n",
    "\n",
    "# 2. a(bc)+:\n",
    "\n",
    "# a) This regular expression matches the pattern where the character \"a\" is followed by one or more occurrences of the sequence \"bc\".\n",
    "# b) For example, it matches strings like \"abc\", \"abcbc\", \"abcbcbc\", and so on.\n",
    "# c) The a part specifies that the string must start with the character \"a\".\n",
    "# d) The (bc)+ part creates a capturing group for the sequence \"bc\" and specifies that this group must appear one or more times \n",
    "# consecutively after the \"a\"."
   ]
  },
  {
   "cell_type": "markdown",
   "id": "3e859c82",
   "metadata": {},
   "source": [
    "# 3."
   ]
  },
  {
   "cell_type": "code",
   "execution_count": 3,
   "id": "981fc6d0",
   "metadata": {},
   "outputs": [],
   "source": [
    "# 1. You need to use the import re statement at the beginning of your Python code whenever you want to work with regular expressions.\n",
    "# 2. This statement imports the re module, which provides support for working with regular expressions in Python. \n",
    "# 3. Without this import statement, you won't have access to the regular expression functions and methods provided by the re module."
   ]
  },
  {
   "cell_type": "markdown",
   "id": "e300e40f",
   "metadata": {},
   "source": [
    "# 4."
   ]
  },
  {
   "cell_type": "code",
   "execution_count": 4,
   "id": "70dba07f",
   "metadata": {},
   "outputs": [],
   "source": [
    "# In a regular expression pattern, square brackets ([]) are used to define a character class, which matches any single \n",
    "#  character within the brackets. Inside square brackets, certain characters have special significance when expressing a range:\n",
    "\n",
    "# a) Hyphen (-): When a hyphen - appears between two characters inside square brackets, it represents a range of characters. \n",
    "\n",
    "# example:\n",
    "# [a-z]: Matches any lowercase letter from 'a' to 'z'.\n",
    "# [0-9]: Matches any digit from '0' to '9'.\n",
    "\n",
    "# b) Caret (^): When the caret ^ appears as the first character inside square brackets, it negates the character class, \n",
    "#     meaning it matches any character that is not in the specified range. \n",
    "    \n",
    "# example:\n",
    "# [^0-9]: Matches any character that is not a digit.\n",
    "\n",
    "# c) Backslash (): In some cases, you may need to escape certain characters with a backslash \\ inside square brackets to match\n",
    "#     them literally. \n",
    "\n",
    "# example:\n",
    "# [\\[\\]]: Matches either '[' or ']'."
   ]
  },
  {
   "cell_type": "markdown",
   "id": "9c8af6d9",
   "metadata": {},
   "source": [
    "# 5."
   ]
  },
  {
   "cell_type": "code",
   "execution_count": 5,
   "id": "16c530dd",
   "metadata": {},
   "outputs": [],
   "source": [
    "# Compiling a regular expression object in Python using the re.compile() function provides several benefits:\n",
    "\n",
    "# a) Performance Improvement: Compiling a regular expression pattern into a regex object allows Python to optimize the pattern \n",
    "#     and create a bytecode version that can be executed more efficiently. This can lead to faster matching when using the \n",
    "#     compiled regex object multiple times.\n",
    "\n",
    "# b) Code Readability and Reusability: By compiling a regular expression pattern into a regex object, you can assign a meaningful\n",
    "#     name to the object, making your code more readable and self-explanatory. It also allows you to reuse the compiled regex\n",
    "#     object multiple times without recompiling the pattern each time.\n",
    "\n",
    "# c) Precompilation Checks: When you compile a regex pattern using re.compile(), Python checks the syntax of the pattern and \n",
    "#     raises any syntax errors immediately. This helps catch regex pattern errors early in the development process.\n",
    "\n",
    "# d) Reduced Redundancy: If you have multiple places in your code where you need to use the same regex pattern, compiling it once\n",
    "#     into a regex object eliminates the redundancy of writing the same pattern multiple times, leading to cleaner and more\n",
    "#     maintainable code.\n",
    "\n",
    "# e) Flags and Options: The re.compile() function allows you to specify flags and options such as case-insensitivity (re.IGNORECASE),\n",
    "#     multiline mode (re.MULTILINE), and others, which can be applied to the compiled regex object for consistent behavior \n",
    "#     across multiple regex matches."
   ]
  },
  {
   "cell_type": "markdown",
   "id": "dd618223",
   "metadata": {},
   "source": [
    "# 6."
   ]
  },
  {
   "cell_type": "code",
   "execution_count": 6,
   "id": "0118cc9f",
   "metadata": {},
   "outputs": [
    {
     "name": "stdout",
     "output_type": "stream",
     "text": [
      "Match found at the beginning: Hello\n",
      "Match found anywhere: Hello\n"
     ]
    }
   ],
   "source": [
    "# Here are some examples of how to use the match object returned by re.match and re.search in Python:\n",
    "\n",
    "# a) Using Match Object Attributes:\n",
    "import re\n",
    "\n",
    "text = \"Hello, World!\"\n",
    "pattern = r\"Hello\"\n",
    "\n",
    "# Using re.match to find pattern at the beginning of the string\n",
    "match_obj = re.match(pattern, text)\n",
    "if match_obj:\n",
    "    print(\"Match found at the beginning:\", match_obj.group())\n",
    "else:\n",
    "    print(\"No match at the beginning\")\n",
    "\n",
    "# Using re.search to find pattern anywhere in the string\n",
    "search_obj = re.search(pattern, text)\n",
    "if search_obj:\n",
    "    print(\"Match found anywhere:\", search_obj.group())\n",
    "else:\n",
    "    print(\"No match anywhere\")"
   ]
  },
  {
   "cell_type": "code",
   "execution_count": 7,
   "id": "bb91bd09",
   "metadata": {},
   "outputs": [
    {
     "name": "stdout",
     "output_type": "stream",
     "text": [
      "Matched price: $10.50\n"
     ]
    }
   ],
   "source": [
    "# b) Accessing Matched Groups:Accessing Matched Groups:\n",
    "import re\n",
    "\n",
    "text = \"The price is $10.50\"\n",
    "pattern = r\"\\$\\d+\\.\\d+\"\n",
    "\n",
    "# Using re.search to find pattern and access the matched group\n",
    "search_obj = re.search(pattern, text)\n",
    "if search_obj:\n",
    "    print(\"Matched price:\", search_obj.group())\n",
    "else:\n",
    "    print(\"Price not found\")"
   ]
  },
  {
   "cell_type": "code",
   "execution_count": 9,
   "id": "84adc5d3",
   "metadata": {},
   "outputs": [
    {
     "name": "stdout",
     "output_type": "stream",
     "text": [
      "Match: apple\n",
      "Match: banana\n",
      "Match: cherry\n"
     ]
    }
   ],
   "source": [
    "# c) Iterating Over Matches:\n",
    "import re\n",
    "\n",
    "text = \"apple banana cherry\"\n",
    "pattern = r\"\\w+\"\n",
    "\n",
    "# Using re.finditer to find all matches and iterate over them\n",
    "for match_obj in re.finditer(pattern, text):\n",
    "    print(\"Match:\", match_obj.group())\n"
   ]
  },
  {
   "cell_type": "markdown",
   "id": "f03e9463",
   "metadata": {},
   "source": [
    "# 7."
   ]
  },
  {
   "cell_type": "code",
   "execution_count": 10,
   "id": "3f4a0a4a",
   "metadata": {},
   "outputs": [
    {
     "name": "stdout",
     "output_type": "stream",
     "text": [
      "['apple', 'banana']\n"
     ]
    }
   ],
   "source": [
    "# The vertical bar | and square brackets [] serve different purposes in regular expressions.\n",
    "\n",
    "# a) Vertical Bar (|) as an Alteration:\n",
    "\n",
    "# 1. The vertical bar | is used to specify alternatives or alterations in a regular expression.\n",
    "# 2. It allows you to match either one pattern or another.\n",
    "# 3. For example, the pattern a|b will match either the character 'a' or the character 'b'.\n",
    "# 4. This is useful when you want to match different patterns in a single regular expression.\n",
    "\n",
    "# example:\n",
    "import re\n",
    "\n",
    "text = \"apple banana cherry\"\n",
    "pattern = r\"apple|banana\"\n",
    "\n",
    "matches = re.findall(pattern, text)\n",
    "print(matches)  # Output: ['apple', 'banana']"
   ]
  },
  {
   "cell_type": "code",
   "execution_count": 12,
   "id": "d106937e",
   "metadata": {},
   "outputs": [
    {
     "name": "stdout",
     "output_type": "stream",
     "text": [
      "['a', 'e', 'a', 'a', 'a', 'e']\n"
     ]
    }
   ],
   "source": [
    "# b) Square Brackets ([]) as a Character Set:\n",
    "\n",
    "# 1. Square brackets [] are used to create a character set, which matches any single character inside the brackets.\n",
    "# 2. It allows you to specify a range of characters or specific characters that you want to match.\n",
    "# 3. For example, the pattern [aeiou] will match any vowel ('a', 'e', 'i', 'o', 'u').\n",
    "# 4. This is useful when you want to match a specific set of characters in a string.\n",
    "\n",
    "# example:\n",
    "import re\n",
    "\n",
    "text = \"apple banana cherry\"\n",
    "pattern = r\"[aeiou]\"\n",
    "\n",
    "matches = re.findall(pattern, text)\n",
    "print(matches)  # Output: ['a', 'e', 'a', 'a', 'a', 'e']"
   ]
  },
  {
   "cell_type": "markdown",
   "id": "d21662ad",
   "metadata": {},
   "source": [
    "# 8."
   ]
  },
  {
   "cell_type": "code",
   "execution_count": 13,
   "id": "407704d7",
   "metadata": {},
   "outputs": [],
   "source": [
    "# In regular expressions, using the raw-string indicator (r) is not strictly necessary, but it's a good practice to do so, \n",
    "# especially when dealing with backslashes (\\) in search patterns or replacement strings. \n",
    "\n",
    "# Here's why:\n",
    "\n",
    "# a) Search Patterns:\n",
    "\n",
    "# 1. When defining a regular expression pattern, you may need to use backslashes to escape certain characters like \\d for digits,\n",
    "#     \\s for whitespace, or \\. to match a literal dot.\n",
    "# 2. If you use a raw string (prefixed with r) to define your regular expression pattern, Python treats backslashes as literal \n",
    "#     characters rather than escape characters.\n",
    "# 3. This prevents Python from interpreting backslashes in unexpected ways, ensuring that your regular expression pattern matches\n",
    "#     exactly what you intend.\n",
    "# 4. Example without raw string: pattern = \"\\d+\" (interpreted by Python as d+)\n",
    "# 5. Example with raw string: pattern = r\"\\d+\" (interpreted as \\d+ in the regular expression)\n",
    "\n",
    "# b) Replacement Strings:\n",
    "\n",
    "# 1. In regular expressions, replacement strings are often used with functions like re.sub() to replace matched patterns with \n",
    "#     specific content.\n",
    "# 2. Backreferences to captured groups in the search pattern are commonly used in replacement strings (e.g., \\1, \\2, etc.).\n",
    "# 3. Using a raw string for replacement strings ensures that backslashes are treated as literal characters and not escape\n",
    "#     characters in the replacement text.\n",
    "# 4. Example without raw string: replacement = \"\\\\1\" (interpreted by Python as \\1)\n",
    "# 5. Example with raw string: replacement = r\"\\1\" (interpreted as \\1 in the replacement string)"
   ]
  },
  {
   "cell_type": "code",
   "execution_count": null,
   "id": "166e97d1",
   "metadata": {},
   "outputs": [],
   "source": []
  }
 ],
 "metadata": {
  "kernelspec": {
   "display_name": "Python 3 (ipykernel)",
   "language": "python",
   "name": "python3"
  },
  "language_info": {
   "codemirror_mode": {
    "name": "ipython",
    "version": 3
   },
   "file_extension": ".py",
   "mimetype": "text/x-python",
   "name": "python",
   "nbconvert_exporter": "python",
   "pygments_lexer": "ipython3",
   "version": "3.11.5"
  }
 },
 "nbformat": 4,
 "nbformat_minor": 5
}
